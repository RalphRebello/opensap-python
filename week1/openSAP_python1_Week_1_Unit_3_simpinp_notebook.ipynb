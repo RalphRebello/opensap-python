{
 "cells": [
  {
   "cell_type": "markdown",
   "metadata": {},
   "source": [
    "# Inputs and outputs\n",
    "## Outputs\n",
    "\n",
    "When a cell of a Jupyter Notebook is executed, the return value (the result) of the last statement is printed below the cell. However,\n",
    "if the last statement does not have a return value (e.g. assigning a value to a variable does not have one), there will be no\n",
    "output. \n",
    "\n",
    "Thus, working with this kind of output has two drawbacks: First, only the result of the last statement is given as output. Second, if the last statement does not have a return value, there is no output at all!\n",
    "\n",
    "Using the Python function `print()`, it is possible overcome these drawbacks. The argument within the paranthesis will be printed as output below the cell. (There will be a complete chapter about functions. Just briefly: A function consists of a function name (here *print*) followed by a pair of paranthesis. Within these paranthesis there can be one or several arguments, which are separated by commas.)"
   ]
  },
  {
   "cell_type": "code",
   "execution_count": 1,
   "metadata": {},
   "outputs": [
    {
     "name": "stdout",
     "output_type": "stream",
     "text": [
      "Hello\n",
      "42\n",
      "Joey\n"
     ]
    }
   ],
   "source": [
    "print(\"Hello\")\n",
    "print(42)\n",
    "\n",
    "name = \"Joey\"\n",
    "print(name)"
   ]
  },
  {
   "cell_type": "markdown",
   "metadata": {},
   "source": [
    "The desired output is passed to the `print()` function as an argument. It is also possible to provide multiple parameters to\n",
    "the `print` function. In this case the parameters must be separated by a comma (`,`)."
   ]
  },
  {
   "cell_type": "code",
   "execution_count": 4,
   "metadata": {},
   "outputs": [
    {
     "name": "stdout",
     "output_type": "stream",
     "text": [
      "My name is: Joey Ramone\n"
     ]
    }
   ],
   "source": [
    "name = \"Joey\"\n",
    "lastname = \"Ramone\"\n",
    "\n",
    "print(\"My name is:\", name, lastname)"
   ]
  },
  {
   "cell_type": "markdown",
   "metadata": {},
   "source": [
    "# Inputs\n",
    "Remember the exercise to calculate the surface area and volume of a cuboid? Calculating the values for a new cuboid has\n",
    "been quite tedious so far.\n",
    "\n",
    "Each time you need to:\n",
    "- Go to the cell of the notebook and change the Python program\n",
    "- Execute the cell again\n",
    "\n",
    "It would be much better if the program asked for the data to be processed as *input*. The Python program should be\n",
    "independent of specific values. The specific values should be provided as input to the program. This is the classic\n",
    "structure of a program according to the IPO principle: input → processing → output"
   ]
  },
  {
   "cell_type": "markdown",
   "metadata": {},
   "source": [
    "### The `input()` function\n",
    "\n",
    "The `input()` function can be used to read input from the user. A typical call of the function `input()` is:\n",
    "\n",
    "```python\n",
    "i = input(\"Please enter a number:\")\n",
    "print(i)\n",
    "```"
   ]
  },
  {
   "cell_type": "code",
   "execution_count": 8,
   "metadata": {},
   "outputs": [
    {
     "name": "stdout",
     "output_type": "stream",
     "text": [
      "Please insert a number: 23\n",
      "23\n"
     ]
    }
   ],
   "source": [
    "i = input(\"Please insert a number: \")\n",
    "print(i)"
   ]
  },
  {
   "cell_type": "markdown",
   "metadata": {},
   "source": [
    "The function `input()` first outputs the given argument *(\"Please ...\")*. After that, the function waits for an input\n",
    "from the user. The user enters a value and finishes the input with the return key (enter key). The entered value is\n",
    "assigned to the variable `i`."
   ]
  },
  {
   "cell_type": "markdown",
   "metadata": {},
   "source": [
    "### Exercise\n",
    "Write a program that uses `input()` to retrieve values for first name, last name, and email address. Output the entered\n",
    "values afterwards."
   ]
  },
  {
   "cell_type": "code",
   "execution_count": 14,
   "metadata": {},
   "outputs": [
    {
     "name": "stdout",
     "output_type": "stream",
     "text": [
      "Insert your name:Ralph\n",
      "Insert your last name:Pacheco Rebello\n",
      "Insert your e-mail:ralph.rebello8@gmail.com\n",
      "Ralph Pacheco Rebello\n",
      "ralph.rebello8@gmail.com\n"
     ]
    }
   ],
   "source": [
    "name = input(\"Insert your name:\")\n",
    "last_name = input(\"Insert your last name:\")\n",
    "email = input(\"Insert your e-mail:\")\n",
    "\n",
    "print(name, last_name)\n",
    "print(email)"
   ]
  },
  {
   "cell_type": "markdown",
   "metadata": {},
   "source": [
    "### Exercise 2\n",
    "\n",
    "Write a program that uses `input()` to accept two numbers from a user and output the sum and the product of both numbers.\n",
    "\n",
    "Expected form of the output:\n",
    "The sum is 30.\n",
    "The product is 225."
   ]
  },
  {
   "cell_type": "code",
   "execution_count": 2,
   "metadata": {},
   "outputs": [
    {
     "name": "stdout",
     "output_type": "stream",
     "text": [
      "Insert the first number:5\n",
      "Insert the second number:5\n"
     ]
    },
    {
     "ename": "TypeError",
     "evalue": "can't multiply sequence by non-int of type 'str'",
     "output_type": "error",
     "traceback": [
      "\u001b[0;31m---------------------------------------------------------------------------\u001b[0m",
      "\u001b[0;31mTypeError\u001b[0m                                 Traceback (most recent call last)",
      "Input \u001b[0;32mIn [2]\u001b[0m, in \u001b[0;36m<cell line: 7>\u001b[0;34m()\u001b[0m\n\u001b[1;32m      2\u001b[0m number_2 \u001b[38;5;241m=\u001b[39m \u001b[38;5;28minput\u001b[39m(\u001b[38;5;124m\"\u001b[39m\u001b[38;5;124mInsert the second number:\u001b[39m\u001b[38;5;124m\"\u001b[39m)\n\u001b[1;32m      4\u001b[0m \u001b[38;5;66;03m#print(\"The sum is\", int(number_1)+int(number_2), \u001b[39;00m\n\u001b[1;32m      5\u001b[0m \u001b[38;5;66;03m#     \". The product is\", int(number_1)*int(number_2))\u001b[39;00m\n\u001b[1;32m      7\u001b[0m \u001b[38;5;28mprint\u001b[39m(\u001b[38;5;124m\"\u001b[39m\u001b[38;5;124mThe sum is\u001b[39m\u001b[38;5;124m\"\u001b[39m \u001b[38;5;241m+\u001b[39m (number_1\u001b[38;5;241m+\u001b[39mnumber_2) \u001b[38;5;241m+\u001b[39m \n\u001b[0;32m----> 8\u001b[0m      \u001b[38;5;124m\"\u001b[39m\u001b[38;5;124m. The product is \u001b[39m\u001b[38;5;124m\"\u001b[39m \u001b[38;5;241m+\u001b[39m (\u001b[43mnumber_1\u001b[49m\u001b[38;5;241;43m*\u001b[39;49m\u001b[43mnumber_2\u001b[49m))\n",
      "\u001b[0;31mTypeError\u001b[0m: can't multiply sequence by non-int of type 'str'"
     ]
    }
   ],
   "source": [
    "number_1 = input(\"Insert the first number:\")\n",
    "number_2 = input(\"Insert the second number:\")\n",
    "\n",
    "#print(\"The sum is\", int(number_1)+int(number_2), \n",
    "#     \". The product is\", int(number_1)*int(number_2))\n",
    "\n",
    "print(\"The sum is\" + (number_1+number_2) + \n",
    "     \". The product is \" + int(number_1*number_2))"
   ]
  },
  {
   "cell_type": "markdown",
   "metadata": {},
   "source": [
    "### Exercise CodeOcean:\n",
    "\n",
    "Write a Python program that asks the user to enter:\n",
    "\n",
    "    A name\n",
    "    A start city\n",
    "    A destination city and\n",
    "    A means of transportation\n",
    "\n",
    "The program should then print that the name wants to travel from start to destination by means of transportation."
   ]
  },
  {
   "cell_type": "code",
   "execution_count": 4,
   "metadata": {},
   "outputs": [
    {
     "name": "stdout",
     "output_type": "stream",
     "text": [
      "Enter your name:rola\n",
      "Enter the start city:grossa\n",
      "Enter the destination city:bucetuda\n",
      "Enter the means transportationgozada\n",
      "rola wants to travel from grossa to bucetuda by gozada\n"
     ]
    }
   ],
   "source": [
    "name = input(\"Enter your name:\")\n",
    "start_city = input(\"Enter the start city:\")\n",
    "final_city = input(\"Enter the destination city:\")\n",
    "transport = input(\"Enter the means transportation\")\n",
    "\n",
    "print(name, \"wants to travel from\", start_city, \"to\", final_city, \"by\", transport)"
   ]
  }
 ],
 "metadata": {
  "file_extension": ".py",
  "interpreter": {
   "hash": "ac59ebe37160ed0dfa835113d9b8498d9f09ceb179beaac4002f036b9467c963"
  },
  "kernelspec": {
   "display_name": "Python 3 (ipykernel)",
   "language": "python",
   "name": "python3"
  },
  "language_info": {
   "codemirror_mode": {
    "name": "ipython",
    "version": 3
   },
   "file_extension": ".py",
   "mimetype": "text/x-python",
   "name": "python",
   "nbconvert_exporter": "python",
   "pygments_lexer": "ipython3",
   "version": "3.8.10"
  },
  "mimetype": "text/x-python",
  "name": "python",
  "npconvert_exporter": "python",
  "pygments_lexer": "ipython3",
  "version": 3
 },
 "nbformat": 4,
 "nbformat_minor": 2
}
