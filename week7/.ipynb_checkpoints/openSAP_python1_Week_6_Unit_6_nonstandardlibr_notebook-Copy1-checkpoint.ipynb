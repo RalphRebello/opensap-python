{
 "cells": [
  {
   "cell_type": "markdown",
   "metadata": {},
   "source": [
    "# Examples of non-standard libraries\n",
    "\n",
    "There are many popular libraries which are not part of the default Python installation. You learned how to find and\n",
    "install them in the previous unit. Now a few libraries are presented. Note that this unit will not give \n",
    "a complete introduction in any of these libraries. Instead the goal of this unit is to give an overview \n",
    "of the large variety of available libraries. \n",
    "\n",
    "\n",
    "## [requests](https://docs.python-requests.org/en/latest/) - HTTP for Humans\n",
    "\n",
    "Using the `requests` library, you can connect to web servers and fetch their content.\n",
    "The [Quickstart Guide](https://docs.python-requests.org/en/latest/user/quickstart/)\n",
    "contains examples on how to use it and what you can do with it."
   ]
  },
  {
   "cell_type": "code",
   "execution_count": null,
   "metadata": {},
   "outputs": [],
   "source": [
    "import requests\n",
    "\n",
    "r = requests.get(\"https://en.wikipedia.org/wiki/Python_(programming_language)\")\n",
    "print(\n",
    "    f\"The word 'Python' is used {r.text.count('Python')} times in its Wikipedia entry!\"\n",
    ")"
   ]
  },
  {
   "cell_type": "markdown",
   "metadata": {},
   "source": [
    "## [BeautifulSoup](https://www.crummy.com/software/BeautifulSoup/bs4/doc/) - Analyzing Webpages\n",
    "\n",
    "BeautifulSoup is a library which perfectly complements requests, the library just introduced. Whereas requests offers the possibility to download webpages, BeautifulSoup supports the analysis of these webpages. (Actually, the name *BeautifulSoup* goes back to syntactically incorrect webpages containing just a \"soup of tags\"). \n",
    "\n",
    "In the following cell, the web-page from [The Guardian](https://www.theguardian.com) is first downloaded with `request.get()`. The content is then analyzed using `BeautifulSoup()`. With the help of the method `.find_all()` all headings of type `h3` are then listed and printed out."
   ]
  },
  {
   "cell_type": "code",
   "execution_count": null,
   "metadata": {},
   "outputs": [],
   "source": [
    "import requests\n",
    "from bs4 import BeautifulSoup\n",
    "\n",
    "r = requests.get(\"http://www.theguardian.com\")\n",
    "soup = BeautifulSoup(r.text)\n",
    "\n",
    "for title in soup.find_all(\"h3\"):\n",
    "    print(title.text)"
   ]
  },
  {
   "cell_type": "markdown",
   "metadata": {},
   "source": [
    "## [tkinter](https://docs.python.org/3/library/tkinter.html) - Python interface to Tcl/Tk\n",
    "\n",
    "With `tkinter` you can create a graphical user interface (*GUI*) to extend your program. The\n",
    "[documentation](https://tkdocs.com/index.html) offers a detailed description how to start and how to use it. In the\n",
    "example below, a very basic program is shown to create a window containing a text and a button to close it."
   ]
  },
  {
   "cell_type": "code",
   "execution_count": null,
   "metadata": {},
   "outputs": [],
   "source": [
    "from tkinter import *\n",
    " \n",
    "window = Tk()\n",
    "window.title(\"GUI created with tkinter\")\n",
    "window.geometry(\"400x300\")\n",
    "\n",
    "def function_button_1():\n",
    "    print(\"Button was pressed\")\n",
    "    \n",
    "def function_button_2():\n",
    "    window.destroy()\n",
    "\n",
    "btn_1 = Button(window, \n",
    "             text=\"This is a Button\", \n",
    "             background = \"yellow\", \n",
    "             command = function_button_1)\n",
    "btn_1.grid(column=0, row=1)\n",
    "\n",
    "btn_2 = Button(window, \n",
    "             text=\"Quit\", \n",
    "             background = \"red\", \n",
    "             command = function_button_2)\n",
    "btn_2.grid(column=1, row=1)\n",
    "             \n",
    "window.mainloop()"
   ]
  },
  {
   "cell_type": "markdown",
   "metadata": {},
   "source": [
    "## Working with large data sets\n",
    "\n",
    "### [Pandas](https://pandas.pydata.org/) - Python Data Analysis Library\n",
    "\n",
    "The Python module `pandas` can be used to process data sets, which size is only limited by the memory of your computer.\n",
    "It provides methods and functions to analyze and visualize these data sets. \n",
    "\n",
    "In the next cells, you can see some brief basic usage examples how to use `pandas`. The data used in this example\n",
    "contains angular rate and acceleration measurements from an IMU *(Intertial Measuremnt Unit)* which \n",
    "was sampled with 1 kHz (1.000 measurements per second).\n",
    "\n",
    "With `head(`*`x`*`)` and `tail(`*`x`*`)`, you can return the first/last *x* lines of your data."
   ]
  },
  {
   "cell_type": "code",
   "execution_count": null,
   "metadata": {},
   "outputs": [],
   "source": [
    "import pandas as pd\n",
    "\n",
    "dataframe = pd.read_csv(\"gyro_accel.csv\", sep=\";\")\n",
    "\n",
    "print(dataframe.info())\n",
    "\n",
    "print(dataframe.head(2))"
   ]
  },
  {
   "cell_type": "markdown",
   "metadata": {},
   "source": [
    "Or you can just select and print one specific column of your data:"
   ]
  },
  {
   "cell_type": "code",
   "execution_count": null,
   "metadata": {},
   "outputs": [],
   "source": [
    "print(dataframe[\"Z_ACCL (32 bit)\"])"
   ]
  },
  {
   "cell_type": "markdown",
   "metadata": {},
   "source": [
    "You could calculate the mean value of your columns iterating through your data yourself, but with `pandas`, this takes\n",
    "just one function call:"
   ]
  },
  {
   "cell_type": "code",
   "execution_count": null,
   "metadata": {},
   "outputs": [],
   "source": [
    "mean_values = dataframe.mean()\n",
    "print(mean_values)"
   ]
  },
  {
   "cell_type": "markdown",
   "metadata": {},
   "source": [
    "## [Matplotlib](https://matplotlib.org/) - Visualization with Python\n",
    "\n",
    "With `matplotlib` you can create graphs to visualize your data. It works seamlessly with `pandas`\n",
    "and is set as a default library for plotting graphs in pandas. Have a look at the next cell to see an example visualizing\n",
    "the angular rate with a dashed line indicating the mean value."
   ]
  },
  {
   "cell_type": "code",
   "execution_count": null,
   "metadata": {},
   "outputs": [],
   "source": [
    "import matplotlib.pyplot as plt\n",
    "\n",
    "# set plot size for good visibility\n",
    "plt.figure(figsize=(12, 6))\n",
    "\n",
    "dataframe[\"Z_GYRO (32 bit)\"].plot(color=\"blue\")\n",
    "\n",
    "# plot mean line for z_gyro values and show plot\n",
    "plt.axhline(y=mean_values[2], color=\"red\", linewidth=2, linestyle=\"--\")\n",
    "plt.show()"
   ]
  },
  {
   "cell_type": "markdown",
   "metadata": {},
   "source": [
    "Of course, it is also possible to use `matplotlib` directly. in the following cell a large number of normally \n",
    "distribute values are generated. These values are then displayed using a histogram."
   ]
  },
  {
   "cell_type": "code",
   "execution_count": null,
   "metadata": {},
   "outputs": [],
   "source": [
    "import random\n",
    "import matplotlib.pyplot as plt\n",
    "\n",
    "random_values = []\n",
    "for _ in range(100000):\n",
    "    random_values.append(random.gauss(mu=100, sigma=20))\n",
    "\n",
    "print(random_values[:10])\n",
    "\n",
    "plt.hist(random_values, bins=500, alpha=0.5)\n",
    "plt.ylabel(\"count\")\n",
    "plt.grid(True)"
   ]
  },
  {
   "cell_type": "code",
   "execution_count": null,
   "metadata": {},
   "outputs": [],
   "source": [
    "import requests\n",
    "\n",
    "search_term = input(\"Please enter a search term: \")\n",
    "\n",
    "r = requests.get(\"https://itunes.apple.com/search?term=\"+search_term+\"&entity=album\")\n",
    "terms = r.json()\n",
    "print(f\"The search returned {terms['resultCount']} result(s)\")\n",
    "\n",
    "for i in terms['results']:\n",
    "    print(f\"Artist: {i['artistName']} - Album: {i['collectionName']} - Track Count: {i['trackCount']}\")"
   ]
  },
  {
   "cell_type": "code",
   "execution_count": 1,
   "metadata": {},
   "outputs": [
    {
     "name": "stdout",
     "output_type": "stream",
     "text": [
      "Calculated value of π: 3.17\n",
      "Value of π from math library: 3.141592653589793\n",
      "Difference: 0.028407346410206813\n"
     ]
    }
   ],
   "source": [
    "import random\n",
    "import math\n",
    "\n",
    "cont = 0\n",
    "cont_in = 0\n",
    "\n",
    "for i in range(0, 10001):\n",
    "    aux_x = random.random()\n",
    "    aux_y = random.random()\n",
    "       \n",
    "    if pow(aux_x, 2) + pow(aux_y, 2) <= 1:\n",
    "        cont_in += 1\n",
    "\n",
    "n_pi = (4 * cont_in) / 10000\n",
    "\n",
    "print(f\"Calculated value of π: {n_pi}\")\n",
    "print(f\"Value of π from math library: {math.pi}\")\n",
    "print(f\"Difference: {n_pi - math.pi}\")"
   ]
  }
 ],
 "metadata": {
  "interpreter": {
   "hash": "b89b5cfaba6639976dc87ff2fec6d58faec662063367e2c229c520fe71072417"
  },
  "kernelspec": {
   "display_name": "Python 3 (ipykernel)",
   "language": "python",
   "name": "python3"
  },
  "language_info": {
   "codemirror_mode": {
    "name": "ipython",
    "version": 3
   },
   "file_extension": ".py",
   "mimetype": "text/x-python",
   "name": "python",
   "nbconvert_exporter": "python",
   "pygments_lexer": "ipython3",
   "version": "3.8.10"
  }
 },
 "nbformat": 4,
 "nbformat_minor": 2
}
