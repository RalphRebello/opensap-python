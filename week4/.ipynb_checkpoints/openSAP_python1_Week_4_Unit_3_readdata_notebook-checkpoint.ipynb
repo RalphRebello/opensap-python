{
 "cells": [
  {
   "cell_type": "markdown",
   "metadata": {},
   "source": [
    "# Reading data from files\n",
    "How to read from a file now? Files are organized sequentially as mentioned before, i.e. they consist of consecutive\n",
    "lines. For processing sequences the `for` loop is suitable. Specifically, one can iterate over the lines of a file like\n",
    "follows:"
   ]
  },
  {
   "cell_type": "code",
   "execution_count": null,
   "metadata": {},
   "outputs": [],
   "source": [
    "# open file\n",
    "with open(\"lorem_ipsum.txt\", \"r\") as file:\n",
    "    # read file line by line and output the lines\n",
    "    for line in file:\n",
    "        print(line)"
   ]
  },
  {
   "cell_type": "markdown",
   "metadata": {},
   "source": [
    "If you compare the output of the program with the content of the file (e.g. in a text editor), you notice that blank\n",
    "lines have been added to the output. What is the reason for this?  \n",
    "At the end of each line there is a line break `\\n` in the text file. This is only visible indirectly, because the text\n",
    "continues on the next line. On output, the function `print()` adds another line break, hence the blank line. \n",
    "\n",
    "You can correct this behaviour in several ways. One way is to set the `end` parameter in the `print()` function to an\n",
    "empty character `end = \"\"`.  \n",
    "Another way is to *strip* the line first. For strings there is a method `.strip()`. This removes spaces, tabs and line\n",
    "breaks at the beginning and at the end of a string. `.strip()` is often used when reading forms to prevent a leading\n",
    "space from changing the input. With one optional argument, you could also specify which characters should be removed.  \n",
    "Alternatively, `.lstrip()` or `.rstrip()` can be used. In this case something is deleted only left or right of the\n",
    "string."
   ]
  },
  {
   "cell_type": "code",
   "execution_count": null,
   "metadata": {},
   "outputs": [],
   "source": [
    "# Open file\n",
    "with open(\"lorem_ipsum.txt\", \"r\") as file:\n",
    "    # read file line by line, strip from  and output the lines\n",
    "    for line in file:\n",
    "        line = line.strip()\n",
    "        print(line)"
   ]
  },
  {
   "cell_type": "markdown",
   "metadata": {},
   "source": [
    "## Output the contents of a file twice\n",
    "In the following program, the `for` loop is run twice. What does the output look like? Why?"
   ]
  },
  {
   "cell_type": "code",
   "execution_count": null,
   "metadata": {},
   "outputs": [],
   "source": [
    "# open file\n",
    "with open(\"lorem_ipsum.txt\", \"r\") as file:\n",
    "    # read file line by line and print the lines\n",
    "    print(\"First round\")\n",
    "    for line in file:\n",
    "        line = line.strip()\n",
    "        print(line)\n",
    "\n",
    "    # read file line by line and print the lines\n",
    "    print(\"Second round\")\n",
    "    for line in file:\n",
    "        line = line.strip()\n",
    "        print(line)"
   ]
  },
  {
   "cell_type": "markdown",
   "metadata": {},
   "source": [
    "When reading a file, the \"read cursor\" or \"read pointer\" is moved character by character over the file. If the *read\n",
    "pointer* arrives at the end of the file and is **not** reset or set to another position, it can not continue reading as\n",
    "the file ends there. To place the *read cursor*, the method `.seek()` can be used. However, this is beyond the scope of the course. "
   ]
  },
  {
   "cell_type": "markdown",
   "metadata": {},
   "source": [
    "## Read a file into a list in one go\n",
    "It is possible that the line breaks are superfluous and only exist because a paper page has a limited width for example.\n",
    "In this case, it may make sense to read the entire text \"in one go\" without iterating over the lines using a loop. The\n",
    "method `.readlines()` is useful for this. The result is a list with **one** entry."
   ]
  },
  {
   "cell_type": "code",
   "execution_count": null,
   "metadata": {},
   "outputs": [],
   "source": [
    "# Open file\n",
    "with open(\"lorem_ipsum.txt\", \"r\") as file:\n",
    "    # read file in one go\n",
    "    line = file.readlines()\n",
    "    print(line)"
   ]
  },
  {
   "cell_type": "markdown",
   "metadata": {},
   "source": [
    "# Exercise 1:\n",
    "In the file `numbers2.txt` there is one number per line. Read the file and sum up the numbers. Output your result."
   ]
  },
  {
   "cell_type": "code",
   "execution_count": null,
   "metadata": {},
   "outputs": [],
   "source": [
    "sum_n = 0\n",
    "#open file\n",
    "with open(\"numbers2.txt\", \"r\") as file:\n",
    "    for line in file:\n",
    "        line = line.strip()\n",
    "        sum_n += int(line)\n",
    "        print(line, sum_n)\n",
    "    file.close()"
   ]
  },
  {
   "cell_type": "markdown",
   "metadata": {},
   "source": [
    "### Code Ocean Exercise\n",
    "\n",
    "The file numbers.txt contains random integer numbers. There is exactly one number per line. Read the file and output the three biggest numbers in the following form:\n",
    "\n",
    "2345\n",
    "223\n",
    "89\n",
    "\n",
    "#### Hint\n",
    "Read the file line by line, delete the line break. As files can only contain strings, the number must now be converted into an integer. Add the number into a list. When all numbers are in the list, sort the list. Then print out the biggest numbers."
   ]
  },
  {
   "cell_type": "code",
   "execution_count": 15,
   "metadata": {},
   "outputs": [
    {
     "name": "stdout",
     "output_type": "stream",
     "text": [
      "9853\n",
      "9760\n",
      "9745\n"
     ]
    }
   ],
   "source": [
    "#codigo Ralph\n",
    "numbers = []\n",
    "first = 0\n",
    "second = 0\n",
    "third = 0\n",
    "\n",
    "with open(\"numbers.txt\", \"r\") as file:\n",
    "    for line in file:\n",
    "        numbers.append(int(line.strip()))        \n",
    "file.close()\n",
    "\n",
    "numbers.sort()\n",
    "\n",
    "for number in numbers:\n",
    "    if number > third and number > second and number > first:\n",
    "        third = second\n",
    "        second = first\n",
    "        first = number        \n",
    "\n",
    "print(first)\n",
    "print(second)\n",
    "print(third)"
   ]
  },
  {
   "cell_type": "code",
   "execution_count": 13,
   "metadata": {},
   "outputs": [
    {
     "name": "stdout",
     "output_type": "stream",
     "text": [
      "9853\n",
      "9760\n",
      "9745\n"
     ]
    }
   ],
   "source": [
    "#codigo Ralph e Lucas\n",
    "numbers = []\n",
    "\n",
    "with open(\"numbers.txt\", \"r\") as file:\n",
    "    for line in file:\n",
    "        numbers.append(int(line.strip()))\n",
    "    numbers.sort()\n",
    "file.close()\n",
    "\n",
    "n1 = max(numbers)\n",
    "numbers.pop() #numbers;remove(n1)\n",
    "n2 = max(numbers)\n",
    "numbers.pop() #numbers;remove(n2)\n",
    "n3 = max(numbers)\n",
    "print(n1)\n",
    "print(n2)\n",
    "print(n3)"
   ]
  }
 ],
 "metadata": {
  "file_extension": ".py",
  "kernelspec": {
   "display_name": "Python 3 (ipykernel)",
   "language": "python",
   "name": "python3"
  },
  "language_info": {
   "codemirror_mode": {
    "name": "ipython",
    "version": 3
   },
   "file_extension": ".py",
   "mimetype": "text/x-python",
   "name": "python",
   "nbconvert_exporter": "python",
   "pygments_lexer": "ipython3",
   "version": "3.8.10"
  },
  "mimetype": "text/x-python",
  "name": "python",
  "npconvert_exporter": "python",
  "pygments_lexer": "ipython3",
  "version": 3
 },
 "nbformat": 4,
 "nbformat_minor": 2
}
