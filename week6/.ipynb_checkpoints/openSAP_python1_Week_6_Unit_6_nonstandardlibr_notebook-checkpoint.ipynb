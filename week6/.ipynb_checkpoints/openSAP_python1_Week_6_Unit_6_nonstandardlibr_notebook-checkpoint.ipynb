{
 "cells": [
  {
   "cell_type": "markdown",
   "metadata": {},
   "source": [
    "# Examples of non-standard libraries\n",
    "\n",
    "There are many popular libraries which are not part of the default Python installation. You learned how to find and\n",
    "install them in the previous unit. Now a few libraries are presented. Note that this unit will not give \n",
    "a complete introduction in any of these libraries. Instead the goal of this unit is to give an overview \n",
    "of the large variety of available libraries. \n",
    "\n",
    "\n",
    "## [requests](https://docs.python-requests.org/en/latest/) - HTTP for Humans\n",
    "\n",
    "Using the `requests` library, you can connect to web servers and fetch their content.\n",
    "The [Quickstart Guide](https://docs.python-requests.org/en/latest/user/quickstart/)\n",
    "contains examples on how to use it and what you can do with it."
   ]
  },
  {
   "cell_type": "code",
   "execution_count": 1,
   "metadata": {},
   "outputs": [
    {
     "name": "stdout",
     "output_type": "stream",
     "text": [
      "The word 'Python' is used 1395 times in its Wikipedia entry!\n"
     ]
    }
   ],
   "source": [
    "import requests\n",
    "\n",
    "r = requests.get(\"https://en.wikipedia.org/wiki/Python_(programming_language)\")\n",
    "print(\n",
    "    f\"The word 'Python' is used {r.text.count('Python')} times in its Wikipedia entry!\"\n",
    ")"
   ]
  },
  {
   "cell_type": "markdown",
   "metadata": {},
   "source": [
    "## [BeautifulSoup](https://www.crummy.com/software/BeautifulSoup/bs4/doc/) - Analyzing Webpages\n",
    "\n",
    "BeautifulSoup is a library which perfectly complements requests, the library just introduced. Whereas requests offers the possibility to download webpages, BeautifulSoup supports the analysis of these webpages. (Actually, the name *BeautifulSoup* goes back to syntactically incorrect webpages containing just a \"soup of tags\"). \n",
    "\n",
    "In the following cell, the web-page from [The Guardian](https://www.theguardian.com) is first downloaded with `request.get()`. The content is then analyzed using `BeautifulSoup()`. With the help of the method `.find_all()` all headings of type `h3` are then listed and printed out."
   ]
  },
  {
   "cell_type": "code",
   "execution_count": 2,
   "metadata": {},
   "outputs": [
    {
     "name": "stdout",
     "output_type": "stream",
     "text": [
      "‘Warmongering, lies and hatred’  Russian diplomat in Geneva resigns over Ukraine invasion \n",
      "‘Warmongering, lies and hatred’  Russian diplomat in Geneva resigns over Ukraine invasion \n",
      "Grain  UK backs Lithuania’s plan to lift Russian blockade \n",
      "Grain  UK backs Lithuania’s plan to lift Russian blockade \n",
      "At a glance  What we know on day 90 of the invasion \n",
      "At a glance  What we know on day 90 of the invasion \n",
      "Davos  War in Ukraine could cause recession in weaker economies, IMF boss warns \n",
      "Davos  War in Ukraine could cause recession in weaker economies, IMF boss warns \n",
      "Partygate scandal  Photos show Johnson with wine at party he was not fined for \n",
      "Analysis   Biden’s Taiwan vow creates confusion not clarity – and raises China tensions \n",
      "Australia news live  China breaks diplomatic freeze with message to PM Albanese, ahead of Biden meeting in Tokyo \n",
      "Nazanin Zaghari-Ratcliffe  UK Foreign Office complicit in forcing confession, says former Iran captive \n",
      "Climate crisis  Deadly Indian heatwave made 30 times more likely by climate crisis \n",
      "Iran  Tehran vows to avenge killing as it buries Revolutionary Guard colonel \n",
      "‘This is a generational moment’  Civil rights group for black Britons launches \n",
      "Bolivia  Perennial student leader clung to his post for decades, all on government’s payroll \n",
      "France  Minister refuses to stand down over rape allegations \n",
      "Johnny Depp  Surgeon casts doubt on actor’s account of how he severed finger  \n",
      "A slice of Silicon Valley   Inside the RCA’s colossal new £135m building \n",
      "‘I thought I was imagining things’  New Zealand readers on close encounters with city birds \n",
      "Managing anxiety  I went wild swimming in a chilly river and haven’t had a panic attack since \n",
      "Duran Duran on making Rio  ‘We’re still trying to work out what it means’ \n",
      "The big idea  Have we been getting sleep all wrong? \n",
      "‘I feel totally seen’  John Crace on how guided breathing soothed a lifetime of anxiety \n",
      "  Pep Guardiola and Manchester City’s sky blue wash will define this era \n",
      "How we met  ‘My dad was a docker and her parents were very middle class. People gave us three weeks’ \n",
      "   \n",
      "                 \n",
      "                  \n",
      "                  Australians woke up to Scott Morrison and didn’t just move the goalposts – they dragged them off the paddock \n",
      "   \n",
      "                 \n",
      "                  \n",
      "                  Don’t believe those who say ending Roe v Wade will leave society largely intact \n",
      "   \n",
      "                 \n",
      "                  \n",
      "                  Australia has shown how quickly the right can crumble. Boris Johnson, be warned \n",
      "   \n",
      "                   \n",
      "                    \n",
      "                    America’s billionaire class is funding anti-democratic forces \n",
      "   \n",
      "                   \n",
      "                    \n",
      "                    Boris Johnson’s conversation with Sue Gray in a meeting that never happened \n",
      "   \n",
      "                   \n",
      "                    \n",
      "                    Forget a gimmicky windfall tax. Energy companies should be forced to slash bills instead \n",
      "   \n",
      "                 \n",
      "                  \n",
      "                  Guardiola and City’s sky blue wash will define this era \n",
      "Wimbledon  Osaka may skip ‘exhibition’ as Djokovic backs ATP points stance \n",
      "Golf  Thomas credits pep talk from caddie Mackay for US PGA fightback \n",
      "Football  Mbappé denies signing PSG deal to gain power over club decisions \n",
      "French Open  Raducanu fights back to sink qualifier Noskova in opener \n",
      "   \n",
      "                   \n",
      "                    \n",
      "                    ‘Walking dead’ of Cádiz and Mallorca rise up to send Granada into abyss \n",
      "F1  Mercedes back in title fight, declares Wolff after car upgrades \n",
      "Serie A  Milan’s triumph of the collective casts off ‘Istanbul Syndrome’ \n",
      "Apocalypse now?   The alarming effects of the global food crisis \n",
      "Shell  Consultant quits, accusing firm of ‘extreme harms’ to environment \n",
      "Climate crisis  Indian wheat farmers count cost of 40C heat that evokes ‘deserts of Rajasthan’ \n",
      "Extreme weather  Historic heatwave poised to hit dozens of US states this weekend \n",
      "Long Covid  Coronavirus can cause ongoing damage to heart, lungs and kidneys, study finds \n",
      "Facebook  Zuckerberg owner sued by DC attorney general over Cambridge Analytica scandal \n",
      "Iran  Zaghari-Ratcliffe says Foreign Office complicit in forcing her to confess \n",
      "1984  Orwell’s book was about liberalism, not totalitarianism, claims Moscow diplomat \n",
      "London  Girl tried to kill herself after strip-search by police, mother says \n",
      "‘One-sided’  Unionists unhappy as US delegation arrives in Ireland \n",
      "Comoros  Sole survivor of 2009 plane crash recalls terrifying ordeal \n",
      "US  Southern Baptist leaders ‘stonewalled’ sex abuse victims, scathing report says \n",
      "Netherlands  Dutch police create deepfake video of murdered boy, 13, in hope of new leads \n",
      "US  Military plane rushes baby formula to US health systems \n",
      "‘None of it has felt insurmountable’  Amanda Abbington on Sherlock, divorce and her fiancé’s nightmare fall \n",
      "Cathal Coughlan  Frontman with Irish indie bands Microdisney and Fatima Mansions dies aged 61 \n",
      "Film  Girls’ School: Taiwanese queer gem is hopelessly devoted to teenage passions \n",
      "‘A gaping wound’  How a film about birds of prey is a warning to India’s capital city \n",
      "Film  Pissarro: Father of Impressionism review – quiet man of art brought into the light \n",
      "Cannes 2022   Decision to Leave review – Tang Wei stuns in Park Chan-wook black-widow noir  \n",
      "The people making a difference  The man who made blokes strip off and feel good about themselves \n",
      "A new start after 60  ‘I took up skating and found my peaceful place in the world’ \n",
      "Watch out for the Sharkcano!   What happens when an underwater volcano erupts? \n",
      "The new flexitarian  Thomasina Miers’ recipe for asparagus and goat’s cheese clafoutis \n",
      "A kitchen in Rome  Rachel Roddy’s recipes for three lively Italian spring salads \n",
      "Nigel Slater's recipes  Puddings to celebrate the jubilee \n",
      "Elizabeth line  Crossrail complete after decades of struggle – a photo essay \n",
      "‘It was like a ceiling fell in’  The women whose lives have been saved by Gentleman Jack \n",
      "Sushi, Pacific lobster … cheeseburgers  Japanese food fit for a president \n",
      "Seascape: the state of our oceans  Sinking Maldives plans to reclaim land from the ocean \n",
      "‘We had too much to do to be scared’  The couple who fled Irpin with 19 dogs \n",
      "Explained  What is monkeypox and should you be worried? \n",
      "Finland and Sweden  How do you feel about your countries and Nato membership? \n",
      "Russians  Tell us what the mood is like in your country \n",
      "Tell us  How have you been affected by the situation in Ukraine? \n",
      "Get in touch  Share a story with the Guardian \n",
      "Mariupol  Rain of munition cascades on to Azovstal steelworks \n",
      "'Any victory is important'  Ukraine wins Eurovision 2022 \n",
      "'Half of America deprived of hope'  Thousands rally for abortion rights across the US \n",
      "'Historic day'  Finland's leaders confirm intention to join Nato \n",
      "Palestinian territories  Israeli police ​attack funeral procession of killed journalist Shireen Abu Aqleh \n",
      "Philippines  Protests erupt as son of late dictator wins presidency \n",
      "Putin's Russia  From KGB agent to Kremlin operator  \n",
      "‘They want to destroy our culture’  Russian strike hits museum in Ukrainian town \n",
      "Made in London  Solidarity Britannia \n",
      "Premier League 2021-22 review  The season’s best photos \n",
      "Monday’s best photos   Boris Johnson looks for answers and dust covers Baghdad \n",
      "River Thames  A year on the river, part one \n",
      "Ukraine  A Ukrainian soldier uploaded all his photos of Azovstal before he was captured. Here they are \n",
      "Labor win, a teal wash and a ‘greenwave’  The Australian elections \n",
      "‘I’m pretty sure he was checking his own phone at the time’  Monaris’s best phone picture \n",
      "  ‘Warmongering, lies and hatred’: Russian diplomat in Geneva resigns over Ukraine invasion \n",
      "  A Ukrainian soldier uploaded all his photos of Azovstal before he was captured. Here they are \n",
      "  Zelenskiy says Putin is the only Russian official he is willing to meet with to discuss how to end the war – as it happened \n",
      "  UK backs Lithuania’s plan to lift Russian blockade of Ukraine grain \n",
      "  French minister refuses to stand down over rape allegations \n",
      "  Iran vows to avenge killing as it buries Revolutionary Guard colonel \n",
      "  Why are monkeypox cases suddenly emerging across the world and could the virus have mutated? \n",
      "  Orwell’s Nineteen Eighty-Four was about liberalism, not totalitarianism, claims Moscow diplomat \n",
      "  Russia-Ukraine war: what we know on day 89 of the invasion \n",
      "  Anthony Albanese in Tokyo for tense Quad talks after Joe Biden says US would defend Taiwan \n"
     ]
    }
   ],
   "source": [
    "import requests\n",
    "from bs4 import BeautifulSoup\n",
    "\n",
    "r = requests.get(\"http://www.theguardian.com\")\n",
    "soup = BeautifulSoup(r.text)\n",
    "\n",
    "for title in soup.find_all(\"h3\"):\n",
    "    print(title.text)"
   ]
  },
  {
   "cell_type": "markdown",
   "metadata": {},
   "source": [
    "## [tkinter](https://docs.python.org/3/library/tkinter.html) - Python interface to Tcl/Tk\n",
    "\n",
    "With `tkinter` you can create a graphical user interface (*GUI*) to extend your program. The\n",
    "[documentation](https://tkdocs.com/index.html) offers a detailed description how to start and how to use it. In the\n",
    "example below, a very basic program is shown to create a window containing a text and a button to close it."
   ]
  },
  {
   "cell_type": "code",
   "execution_count": 3,
   "metadata": {},
   "outputs": [
    {
     "ename": "ModuleNotFoundError",
     "evalue": "No module named 'tkinter'",
     "output_type": "error",
     "traceback": [
      "\u001b[0;31m---------------------------------------------------------------------------\u001b[0m",
      "\u001b[0;31mModuleNotFoundError\u001b[0m                       Traceback (most recent call last)",
      "Input \u001b[0;32mIn [3]\u001b[0m, in \u001b[0;36m<cell line: 1>\u001b[0;34m()\u001b[0m\n\u001b[0;32m----> 1\u001b[0m \u001b[38;5;28;01mfrom\u001b[39;00m \u001b[38;5;21;01mtkinter\u001b[39;00m \u001b[38;5;28;01mimport\u001b[39;00m \u001b[38;5;241m*\u001b[39m\n\u001b[1;32m      3\u001b[0m window \u001b[38;5;241m=\u001b[39m Tk()\n\u001b[1;32m      4\u001b[0m window\u001b[38;5;241m.\u001b[39mtitle(\u001b[38;5;124m\"\u001b[39m\u001b[38;5;124mGUI created with tkinter\u001b[39m\u001b[38;5;124m\"\u001b[39m)\n",
      "\u001b[0;31mModuleNotFoundError\u001b[0m: No module named 'tkinter'"
     ]
    }
   ],
   "source": [
    "from tkinter import *\n",
    " \n",
    "window = Tk()\n",
    "window.title(\"GUI created with tkinter\")\n",
    "window.geometry(\"400x300\")\n",
    "\n",
    "def function_button_1():\n",
    "    print(\"Button was pressed\")\n",
    "    \n",
    "def function_button_2():\n",
    "    window.destroy()\n",
    "\n",
    "btn_1 = Button(window, \n",
    "             text=\"This is a Button\", \n",
    "             background = \"yellow\", \n",
    "             command = function_button_1)\n",
    "btn_1.grid(column=0, row=1)\n",
    "\n",
    "btn_2 = Button(window, \n",
    "             text=\"Quit\", \n",
    "             background = \"red\", \n",
    "             command = function_button_2)\n",
    "btn_2.grid(column=1, row=1)\n",
    "             \n",
    "window.mainloop()"
   ]
  },
  {
   "cell_type": "markdown",
   "metadata": {},
   "source": [
    "## Working with large data sets\n",
    "\n",
    "### [Pandas](https://pandas.pydata.org/) - Python Data Analysis Library\n",
    "\n",
    "The Python module `pandas` can be used to process data sets, which size is only limited by the memory of your computer.\n",
    "It provides methods and functions to analyze and visualize these data sets. \n",
    "\n",
    "In the next cells, you can see some brief basic usage examples how to use `pandas`. The data used in this example\n",
    "contains angular rate and acceleration measurements from an IMU *(Intertial Measuremnt Unit)* which \n",
    "was sampled with 1 kHz (1.000 measurements per second).\n",
    "\n",
    "With `head(`*`x`*`)` and `tail(`*`x`*`)`, you can return the first/last *x* lines of your data."
   ]
  },
  {
   "cell_type": "code",
   "execution_count": 4,
   "metadata": {},
   "outputs": [
    {
     "ename": "ModuleNotFoundError",
     "evalue": "No module named 'pandas'",
     "output_type": "error",
     "traceback": [
      "\u001b[0;31m---------------------------------------------------------------------------\u001b[0m",
      "\u001b[0;31mModuleNotFoundError\u001b[0m                       Traceback (most recent call last)",
      "Input \u001b[0;32mIn [4]\u001b[0m, in \u001b[0;36m<cell line: 1>\u001b[0;34m()\u001b[0m\n\u001b[0;32m----> 1\u001b[0m \u001b[38;5;28;01mimport\u001b[39;00m \u001b[38;5;21;01mpandas\u001b[39;00m \u001b[38;5;28;01mas\u001b[39;00m \u001b[38;5;21;01mpd\u001b[39;00m\n\u001b[1;32m      3\u001b[0m dataframe \u001b[38;5;241m=\u001b[39m pd\u001b[38;5;241m.\u001b[39mread_csv(\u001b[38;5;124m\"\u001b[39m\u001b[38;5;124mgyro_accel.csv\u001b[39m\u001b[38;5;124m\"\u001b[39m, sep\u001b[38;5;241m=\u001b[39m\u001b[38;5;124m\"\u001b[39m\u001b[38;5;124m;\u001b[39m\u001b[38;5;124m\"\u001b[39m)\n\u001b[1;32m      5\u001b[0m \u001b[38;5;28mprint\u001b[39m(dataframe\u001b[38;5;241m.\u001b[39minfo())\n",
      "\u001b[0;31mModuleNotFoundError\u001b[0m: No module named 'pandas'"
     ]
    }
   ],
   "source": [
    "import pandas as pd\n",
    "\n",
    "dataframe = pd.read_csv(\"gyro_accel.csv\", sep=\";\")\n",
    "\n",
    "print(dataframe.info())\n",
    "\n",
    "print(dataframe.head(2))"
   ]
  },
  {
   "cell_type": "markdown",
   "metadata": {},
   "source": [
    "Or you can just select and print one specific column of your data:"
   ]
  },
  {
   "cell_type": "code",
   "execution_count": 5,
   "metadata": {},
   "outputs": [
    {
     "ename": "NameError",
     "evalue": "name 'dataframe' is not defined",
     "output_type": "error",
     "traceback": [
      "\u001b[0;31m---------------------------------------------------------------------------\u001b[0m",
      "\u001b[0;31mNameError\u001b[0m                                 Traceback (most recent call last)",
      "Input \u001b[0;32mIn [5]\u001b[0m, in \u001b[0;36m<cell line: 1>\u001b[0;34m()\u001b[0m\n\u001b[0;32m----> 1\u001b[0m \u001b[38;5;28mprint\u001b[39m(\u001b[43mdataframe\u001b[49m[\u001b[38;5;124m\"\u001b[39m\u001b[38;5;124mZ_ACCL (32 bit)\u001b[39m\u001b[38;5;124m\"\u001b[39m])\n",
      "\u001b[0;31mNameError\u001b[0m: name 'dataframe' is not defined"
     ]
    }
   ],
   "source": [
    "print(dataframe[\"Z_ACCL (32 bit)\"])"
   ]
  },
  {
   "cell_type": "markdown",
   "metadata": {},
   "source": [
    "You could calculate the mean value of your columns iterating through your data yourself, but with `pandas`, this takes\n",
    "just one function call:"
   ]
  },
  {
   "cell_type": "code",
   "execution_count": 6,
   "metadata": {},
   "outputs": [
    {
     "ename": "NameError",
     "evalue": "name 'dataframe' is not defined",
     "output_type": "error",
     "traceback": [
      "\u001b[0;31m---------------------------------------------------------------------------\u001b[0m",
      "\u001b[0;31mNameError\u001b[0m                                 Traceback (most recent call last)",
      "Input \u001b[0;32mIn [6]\u001b[0m, in \u001b[0;36m<cell line: 1>\u001b[0;34m()\u001b[0m\n\u001b[0;32m----> 1\u001b[0m mean_values \u001b[38;5;241m=\u001b[39m \u001b[43mdataframe\u001b[49m\u001b[38;5;241m.\u001b[39mmean()\n\u001b[1;32m      2\u001b[0m \u001b[38;5;28mprint\u001b[39m(mean_values)\n",
      "\u001b[0;31mNameError\u001b[0m: name 'dataframe' is not defined"
     ]
    }
   ],
   "source": [
    "mean_values = dataframe.mean()\n",
    "print(mean_values)"
   ]
  },
  {
   "cell_type": "markdown",
   "metadata": {},
   "source": [
    "## [Matplotlib](https://matplotlib.org/) - Visualization with Python\n",
    "\n",
    "With `matplotlib` you can create graphs to visualize your data. It works seamlessly with `pandas`\n",
    "and is set as a default library for plotting graphs in pandas. Have a look at the next cell to see an example visualizing\n",
    "the angular rate with a dashed line indicating the mean value."
   ]
  },
  {
   "cell_type": "code",
   "execution_count": 9,
   "metadata": {},
   "outputs": [
    {
     "ename": "NameError",
     "evalue": "name 'dataframe' is not defined",
     "output_type": "error",
     "traceback": [
      "\u001b[0;31m---------------------------------------------------------------------------\u001b[0m",
      "\u001b[0;31mNameError\u001b[0m                                 Traceback (most recent call last)",
      "Input \u001b[0;32mIn [9]\u001b[0m, in \u001b[0;36m<cell line: 6>\u001b[0;34m()\u001b[0m\n\u001b[1;32m      3\u001b[0m \u001b[38;5;66;03m# set plot size for good visibility\u001b[39;00m\n\u001b[1;32m      4\u001b[0m plt\u001b[38;5;241m.\u001b[39mfigure(figsize\u001b[38;5;241m=\u001b[39m(\u001b[38;5;241m12\u001b[39m, \u001b[38;5;241m6\u001b[39m))\n\u001b[0;32m----> 6\u001b[0m \u001b[43mdataframe\u001b[49m[\u001b[38;5;124m\"\u001b[39m\u001b[38;5;124mZ_GYRO (32 bit)\u001b[39m\u001b[38;5;124m\"\u001b[39m]\u001b[38;5;241m.\u001b[39mplot(color\u001b[38;5;241m=\u001b[39m\u001b[38;5;124m\"\u001b[39m\u001b[38;5;124mblue\u001b[39m\u001b[38;5;124m\"\u001b[39m)\n\u001b[1;32m      8\u001b[0m \u001b[38;5;66;03m# plot mean line for z_gyro values and show plot\u001b[39;00m\n\u001b[1;32m      9\u001b[0m plt\u001b[38;5;241m.\u001b[39maxhline(y\u001b[38;5;241m=\u001b[39mmean_values[\u001b[38;5;241m2\u001b[39m], color\u001b[38;5;241m=\u001b[39m\u001b[38;5;124m\"\u001b[39m\u001b[38;5;124mred\u001b[39m\u001b[38;5;124m\"\u001b[39m, linewidth\u001b[38;5;241m=\u001b[39m\u001b[38;5;241m2\u001b[39m, linestyle\u001b[38;5;241m=\u001b[39m\u001b[38;5;124m\"\u001b[39m\u001b[38;5;124m--\u001b[39m\u001b[38;5;124m\"\u001b[39m)\n",
      "\u001b[0;31mNameError\u001b[0m: name 'dataframe' is not defined"
     ]
    },
    {
     "data": {
      "text/plain": [
       "<Figure size 864x432 with 0 Axes>"
      ]
     },
     "metadata": {},
     "output_type": "display_data"
    }
   ],
   "source": [
    "import matplotlib.pyplot as plt\n",
    "\n",
    "# set plot size for good visibility\n",
    "plt.figure(figsize=(12, 6))\n",
    "\n",
    "dataframe[\"Z_GYRO (32 bit)\"].plot(color=\"blue\")\n",
    "\n",
    "# plot mean line for z_gyro values and show plot\n",
    "plt.axhline(y=mean_values[2], color=\"red\", linewidth=2, linestyle=\"--\")\n",
    "plt.show()"
   ]
  },
  {
   "cell_type": "markdown",
   "metadata": {},
   "source": [
    "Of course, it is also possible to use `matplotlib` directly. in the following cell a large number of normally \n",
    "distribute values are generated. These values are then displayed using a histogram."
   ]
  },
  {
   "cell_type": "code",
   "execution_count": 13,
   "metadata": {},
   "outputs": [
    {
     "name": "stdout",
     "output_type": "stream",
     "text": [
      "[97.98893016805584, 135.6104859419886, 126.7389664742157, 138.7846182522474, 87.87028147381663, 125.70053096800429, 76.77470014011604, 98.38663810536745, 98.18211365662624, 63.98791553144077]\n"
     ]
    },
    {
     "data": {
      "image/png": "[encoded data removed]",
      "text/plain": [
       "<Figure size 432x288 with 1 Axes>"
      ]
     },
     "metadata": {
      "needs_background": "light"
     },
     "output_type": "display_data"
    }
   ],
   "source": [
    "import random\n",
    "import matplotlib.pyplot as plt\n",
    "\n",
    "random_values = []\n",
    "for _ in range(100000):\n",
    "    random_values.append(random.gauss(mu=100, sigma=20))\n",
    "\n",
    "print(random_values[:10])\n",
    "\n",
    "plt.hist(random_values, bins=500, alpha=0.5)\n",
    "plt.ylabel(\"count\")\n",
    "plt.grid(True)"
   ]
  },
  {
   "cell_type": "code",
   "execution_count": null,
   "metadata": {},
   "outputs": [],
   "source": []
  }
 ],
 "metadata": {
  "interpreter": {
   "hash": "b89b5cfaba6639976dc87ff2fec6d58faec662063367e2c229c520fe71072417"
  },
  "kernelspec": {
   "display_name": "Python 3 (ipykernel)",
   "language": "python",
   "name": "python3"
  },
  "language_info": {
   "codemirror_mode": {
    "name": "ipython",
    "version": 3
   },
   "file_extension": ".py",
   "mimetype": "text/x-python",
   "name": "python",
   "nbconvert_exporter": "python",
   "pygments_lexer": "ipython3",
   "version": "3.8.10"
  }
 },
 "nbformat": 4,
 "nbformat_minor": 2
}
