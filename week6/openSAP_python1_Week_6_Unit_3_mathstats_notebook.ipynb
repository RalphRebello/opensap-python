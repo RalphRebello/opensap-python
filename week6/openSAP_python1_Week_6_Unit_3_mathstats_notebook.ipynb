{
 "cells": [
  {
   "cell_type": "markdown",
   "metadata": {},
   "source": [
    "# The `math`, the `random` and the `statistics` libraries \n",
    "This unit focuses on using different functionalities provided by the `math`, `random` and `statistics` libraries. \n",
    "These libraries are part of the [Python Standard Library](https://docs.python.org/3/library/index.html).\n",
    "In order to explore these libraries two exercises are used. To familiarize yourself with the Python Standard Library and\n",
    "the documentation it is highly recommended that you try to solve the exercises yourself before looking at the solutions.\n",
    "\n",
    "\n",
    "## Exercises\n",
    "\n",
    "### Exercise 1 - The `math` library\n",
    "\n",
    "Write a program that performs the following tasks:\n",
    "1. Get a integer number from the user\n",
    "1. Calculate the factorial ($x!$) of this number\n",
    "1. Calculate the natural logarithm and the logarithm to the base 10 of the number\n",
    "\n",
    "Explore the [documentation](https://docs.python.org/3/library/math.html) of the `math` library to find suitable\n",
    "functions."
   ]
  },
  {
   "cell_type": "code",
   "execution_count": null,
   "metadata": {},
   "outputs": [],
   "source": [
    "from math import factorial, log1p, log10\n",
    "\n",
    "def calculate_fact(number):\n",
    "    return factorial(number)\n",
    "    \n",
    "def calculate_log(number):\n",
    "    return log1p(number)\n",
    "    \n",
    "def calculate_log10(number):\n",
    "    return log10(number)\n",
    "\n",
    "number = int(input(\"Insert a number: \"))\n",
    "\n",
    "print(f\"Fatorial of {number} is {calculate_fact(number)}\")\n",
    "print(f\"Natural logarithm of {number} is {calculate_log(number):.2f}\")\n",
    "print(f\"Natural logarithm to the base 10 of {str(number)} is {calculate_log10(number):.2f}\")"
   ]
  },
  {
   "cell_type": "markdown",
   "metadata": {},
   "source": [
    "### Exercise 2 - The `random` and `statistics` libraries\n",
    "\n",
    "Use functions from the `random` and `statistics` libraries to\n",
    "- generate a list of 100 random integer numbers between 1 and 10\n",
    "- calculate the mean of this list\n",
    "- calculate the median of this list\n",
    "- calculate the variance of this list\n",
    "\n",
    "Explore the documentation of the [`random`](https://docs.python.org/3/library/random.html) and the\n",
    "[`statistics`](https://docs.python.org/3/library/statistics.html) libraries to find suitable functions. "
   ]
  },
  {
   "cell_type": "code",
   "execution_count": null,
   "metadata": {},
   "outputs": [],
   "source": [
    "from random import randint\n",
    "from statistics import mean, median, variance\n",
    "\n",
    "def generate_nums(min_n, max_n):\n",
    "    nums = []\n",
    "    for i in range(0, 100):\n",
    "        nums.append(randint(min_n, max_n))\n",
    "    \n",
    "    return nums\n",
    "\n",
    "def statistics(list_nums):\n",
    "    return mean(list_nums), median(list_nums), variance(list_nums)\n",
    "\n",
    "list_num = []\n",
    "list_num = generate_nums(1, 10)\n",
    "\n",
    "m, m1, v = statistics(list_num)\n",
    "\n",
    "print(f\"The mean is {m:.2f}, the median is {m1:.2f} and the variance is {v:.2f}\")"
   ]
  },
  {
   "cell_type": "markdown",
   "metadata": {},
   "source": [
    "# Code Ocean\n",
    "\n",
    "Import the`random` library and have a look at the function `gauss()` which gives back a random float number. Which parameters are required? Write a function `gaussian_distribution()` that returns a list of 1000 random numbers with a mean of 100 and a standard deviation of 10. Invoke this function.\n",
    "\n",
    "For the resulting list calculate and print the mean and the standard deviation using the respective functions from the `statistics` library. Re-run the program and observe, if the values change.\n",
    "\n",
    "Below is the output of an example execution of the program. Note that the values of the standard derivation and the mean might be different in your case.\n",
    "\n",
    "Mean: 100.15215154056546\n",
    "Standard Deviation: 9.93532937167394"
   ]
  },
  {
   "cell_type": "code",
   "execution_count": 18,
   "metadata": {},
   "outputs": [
    {
     "name": "stdout",
     "output_type": "stream",
     "text": [
      "Mean: 100.03565528942872 \n",
      "Standard Deviation: 10.149616222249874\n"
     ]
    }
   ],
   "source": [
    "import random\n",
    "import statistics\n",
    "\n",
    "def gaussian_distribution():\n",
    "    list_aux = []\n",
    "\n",
    "    for i in range(1000):\n",
    "        list_aux.append(random.gauss(100, 10))\n",
    "\n",
    "    return list_aux\n",
    "\n",
    "def calc_statistics(list_n):\n",
    "    return statistics.mean(list_n), statistics.stdev(list_n)\n",
    "\n",
    "list_n = []\n",
    "list_n = gaussian_distribution()\n",
    "mean, std_dev = calc_statistics(list_n)\n",
    "\n",
    "print(\"Mean:\", mean, \"\\nStandard Deviation:\", std_dev)"
   ]
  }
 ],
 "metadata": {
  "interpreter": {
   "hash": "9fd0e282e2343d8b38b390b803aabc7fcea80a18eee8e5bd23ce64f6435b30a1"
  },
  "kernelspec": {
   "display_name": "Python 3 (ipykernel)",
   "language": "python",
   "name": "python3"
  },
  "language_info": {
   "codemirror_mode": {
    "name": "ipython",
    "version": 3
   },
   "file_extension": ".py",
   "mimetype": "text/x-python",
   "name": "python",
   "nbconvert_exporter": "python",
   "pygments_lexer": "ipython3",
   "version": "3.8.10"
  }
 },
 "nbformat": 4,
 "nbformat_minor": 2
}
