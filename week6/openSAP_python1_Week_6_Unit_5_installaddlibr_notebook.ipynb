{
 "cells": [
  {
   "cell_type": "markdown",
   "metadata": {},
   "source": [
    "# Finding more libraries for specific purposes\n",
    "\n",
    "Now that you know some common libraries, you might want to know how to use more libraries for your own\n",
    "code or projects. There may be some libraries pre-installed on your OS, but most of the available libraries will not be\n",
    "on your computer.  \n",
    "Here are some hints where you can look for libraries:\n",
    "\n",
    "- [20 Great Python Libraries You Must Know](https://blog.stoneriverelearning.com/20-great-python-libraries-you-must-know/)\n",
    "- [The 30 Best Python Libraries and Packages for Beginners](https://www.ubuntupit.com/best-python-libraries-and-packages-for-beginners/)\n",
    "- [The Python Package Index (PyPI)](https://pypi.org/)\n",
    "- A search engine of your choice. Works best with a precise search term, e.g.\n",
    "  [*python library for gui*](https://www.ecosia.org/search?q=python+library+for+gui)\n",
    "\n",
    "When looking for libraries in the PyPI, you can either search for a specific name or [browse](https://pypi.org/search/)\n",
    "all packages and filter by categories. To see packages for (grahpical) user interfaces for example you can filter by\n",
    "*Topic* and select *Software Development* -> *User Interfaces*.\n",
    "\n",
    "\n",
    "# [Installing](https://packaging.python.org/en/latest/guides/tool-recommendations/#installation-tool-recommendations) additional libraries - [pip](https://pip.pypa.io/en/stable/)\n",
    "\n",
    "The package **pip** (***p**ip **i**nstalls **p**ackages*) can be used to install packages from package indices like the\n",
    "*Python Package Index* mentioned before. Using the command\n",
    "\n",
    "> pip install *package_name*\n",
    "\n",
    "you can install any package from any indices and use it in your programs."
   ]
  },
  {
   "cell_type": "markdown",
   "metadata": {},
   "source": [
    "# Code Ocean\n",
    "\n",
    "The non-standard library $py-sudoku$ offers the possibility to create your own sudokus. Follow the above link and have a look how to install and use the library. Install the library and create a new sudoku with a difficulty of 0.7 Display the sudoku and the solution of the sudoku.\n",
    "\n",
    "### Hint\n",
    "\n",
    "In CodeOcean we already installed the library for you. You only need to install the library on your local computer."
   ]
  },
  {
   "cell_type": "code",
   "execution_count": 1,
   "metadata": {},
   "outputs": [
    {
     "name": "stdout",
     "output_type": "stream",
     "text": [
      "+-------+-------+-------+\n",
      "|   1   |     7 | 8     |\n",
      "|   2 7 |     8 | 5     |\n",
      "| 4 8   |   5   | 1 6 7 |\n",
      "+-------+-------+-------+\n",
      "| 7   8 | 5 2   | 3   9 |\n",
      "| 1     | 7   3 | 4     |\n",
      "| 3 4   |     6 | 2     |\n",
      "+-------+-------+-------+\n",
      "|   5   | 4   1 | 9 3 2 |\n",
      "| 2 3   |   6   | 7 4   |\n",
      "| 9     |     5 |   8   |\n",
      "+-------+-------+-------+\n",
      "\n",
      "+-------+-------+-------+\n",
      "| 5 1 3 | 6 9 7 | 8 2 4 |\n",
      "| 6 2 7 | 1 4 8 | 5 9 3 |\n",
      "| 4 8 9 | 3 5 2 | 1 6 7 |\n",
      "+-------+-------+-------+\n",
      "| 7 6 8 | 5 2 4 | 3 1 9 |\n",
      "| 1 9 2 | 7 8 3 | 4 5 6 |\n",
      "| 3 4 5 | 9 1 6 | 2 7 8 |\n",
      "+-------+-------+-------+\n",
      "| 8 5 6 | 4 7 1 | 9 3 2 |\n",
      "| 2 3 1 | 8 6 9 | 7 4 5 |\n",
      "| 9 7 4 | 2 3 5 | 6 8 1 |\n",
      "+-------+-------+-------+\n",
      "\n"
     ]
    }
   ],
   "source": [
    "from sudoku import Sudoku\n",
    "\n",
    "puzzle = Sudoku(3).difficulty(0.5)\n",
    "puzzle.show()\n",
    "\n",
    "solution = puzzle.solve()\n",
    "solution.show()"
   ]
  }
 ],
 "metadata": {
  "interpreter": {
   "hash": "b89b5cfaba6639976dc87ff2fec6d58faec662063367e2c229c520fe71072417"
  },
  "kernelspec": {
   "display_name": "Python 3 (ipykernel)",
   "language": "python",
   "name": "python3"
  },
  "language_info": {
   "codemirror_mode": {
    "name": "ipython",
    "version": 3
   },
   "file_extension": ".py",
   "mimetype": "text/x-python",
   "name": "python",
   "nbconvert_exporter": "python",
   "pygments_lexer": "ipython3",
   "version": "3.8.10"
  }
 },
 "nbformat": 4,
 "nbformat_minor": 2
}
