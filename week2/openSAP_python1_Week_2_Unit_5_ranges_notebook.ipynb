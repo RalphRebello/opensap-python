{
 "cells": [
  {
   "cell_type": "markdown",
   "metadata": {},
   "source": [
    "# Using [ranges](https://docs.python.org/3/tutorial/controlflow.html#the-range-function) to create sequences of numbers\n",
    "Python has an own data type to represent a sequence of numbers. This data type is called\n",
    "[*Range*](https://docs.python.org/3/library/stdtypes.html#ranges). Ranges are created by calling the `range` function.\n",
    "\n",
    "In its simplest form the `range` function is invoked by with just one parameter. In this case a Range starting from 0 is\n",
    "created. The following example shows how to create a range containing the numbers from 0 to 4:\n",
    "\n",
    "```python\n",
    "  range(5) # -> 0 1 2 3 4\n",
    "```\n",
    "\n",
    "As you can see, the paramter, i.e. the end point of the sequence, is **not** part of the sequence. \n",
    "\n",
    "Alternatively, an initial value other than 0 can be used to defined a range. To do this, the `range` function is called\n",
    "with two parameters. The following function call creates a range in the interval from 10 to 15.\n",
    "\n",
    "```python\n",
    "  range(10,16) # -> 10 11 12 13 14 15\n",
    "```\n",
    "\n",
    "As you can see, the start point **is** part of the sequence, the end point is not. Question: What sequence is produced with range: `range(3,3)`? Give it a try ...\n",
    "\n",
    "By using the step size the distance between the numbers in the interval can be defined. The step size can be negative as\n",
    "well as positive.\n",
    "\n",
    "```python\n",
    "  range(2,12,3) # -> 2 5 8 11\n",
    "  range(20,5,-5) # -> 20 15 10\n",
    "```\n",
    "\n",
    "# Ranges and the `for` loop\n",
    "Ranges can be used in combination with the `for` loop to control the number of loop passes. This is explained in more\n",
    "detail in the following examples. For instance, to print the numbers from 0 to 9, the following Python code can be used:"
   ]
  },
  {
   "cell_type": "code",
   "execution_count": null,
   "metadata": {},
   "outputs": [],
   "source": [
    "for number in range(10):\n",
    "    print(number)"
   ]
  },
  {
   "cell_type": "markdown",
   "metadata": {},
   "source": [
    "The numbers from 10 to 19 can be output as follows:"
   ]
  },
  {
   "cell_type": "code",
   "execution_count": null,
   "metadata": {},
   "outputs": [],
   "source": [
    "for number in range(10, 20):\n",
    "    print(number)"
   ]
  },
  {
   "cell_type": "markdown",
   "metadata": {},
   "source": [
    "Last but not least, the step size of the interval represented by the range can be adjusted. For example, the following\n",
    "Python code outputs all numbers from 10 to 0 in steps of 2."
   ]
  },
  {
   "cell_type": "code",
   "execution_count": null,
   "metadata": {},
   "outputs": [],
   "source": [
    "for number in range(10, 0, -2):\n",
    "    print(number)"
   ]
  },
  {
   "cell_type": "markdown",
   "metadata": {},
   "source": [
    "# Exercise 1 - Combining `range` and `input`\n",
    "Now it's your turn again. Write a Python program that expects three integer numbers as input: from, to and increment.\n",
    "Then output the numbers in that range with the appropriate increment. Note: Remember to convert the inputs to the\n",
    "correct data type."
   ]
  },
  {
   "cell_type": "code",
   "execution_count": null,
   "metadata": {},
   "outputs": [],
   "source": [
    "first = int(input(\"Insert the first number: \"))\n",
    "last = int(input(\"Insert the last number: \"))\n",
    "increment = int(input(\"Insert the increment number: \"))\n",
    "\n",
    "for number in range(first, last, increment):\n",
    "    print(number)"
   ]
  },
  {
   "cell_type": "markdown",
   "metadata": {},
   "source": [
    "# Exercise 2 - FizzBuzz\n",
    "Write a program that outputs the numbers from 1 to 100. All numbers that are divisible by three should be replaced by\n",
    "*Fizz* and all numbers that are divisible by 5 should be replaced by *Buzz*. Numbers that are divisible by both 3 and 5\n",
    "will be replaced by \"FizzBuzz\".  \n",
    "**Note:** You can check the divisibility with the modulo operator ``%`. The output of the function should look like\n",
    "this:\n",
    "\n",
    "> 1 <br>\n",
    "> 2 <br>\n",
    "> Fizz <br>\n",
    "> 4 <br>\n",
    "> Buzz <br>\n",
    "> Fizz <br>\n",
    "> 7 <br>\n",
    "> ..."
   ]
  },
  {
   "cell_type": "code",
   "execution_count": null,
   "metadata": {},
   "outputs": [],
   "source": [
    "for number in range(1,101):\n",
    "    \n",
    "    if number % 3 == 0 and number % 5 == 0:\n",
    "            print(\"FizzBuzz\")            \n",
    "    elif number % 3 == 0:        \n",
    "            print(\"Fizz\")\n",
    "    elif number % 5 == 0:\n",
    "        print(\"Buzz\")\n",
    "    else:\n",
    "        print(number)"
   ]
  },
  {
   "cell_type": "markdown",
   "metadata": {},
   "source": [
    "### Exercise Unit 5 Code Ocean\n",
    "\n",
    "\n",
    "\n",
    "Write a program that lets the user input a two-dimensional matrix (Hint: you could use a list of lists to store the matrix). The program should first ask the user how many rows and columns the matrix should contain. Next, the program should ask the user for the elements of the matrix. Your program should read the values from the user row by row. If, for example, the matrix has the dimension 2 by 3, the values should be read as follows:\n",
    "***\n",
    "    First row, first value\n",
    "    First row, second value\n",
    "    First row, third value\n",
    "    Second row, first value\n",
    "    Second row, second value\n",
    "    Second row, third value\n",
    "***\n",
    "Finally, the program should calculate and print the sums of the values in each row."
   ]
  },
  {
   "cell_type": "code",
   "execution_count": null,
   "metadata": {},
   "outputs": [],
   "source": [
    "rows = int(input(\"Please enter the number of rows in the matrix: \"))\n",
    "columns = int(input(\"Please enter the number of columns in the matrix: \"))\n",
    "print(\"Enter the matrix values: \")\n",
    "\n",
    "matrix = []\n",
    "\n",
    "for i in range(rows):\n",
    "    line = []\n",
    "    for j in range(columns):\n",
    "        line.append(int(input(\"value: \")))\n",
    "    \n",
    "    matrix.append(line)\n",
    "    \n",
    "print(matrix)\n",
    "for line in matrix:\n",
    "    print(\"Sum of row: \", sum(line))"
   ]
  },
  {
   "cell_type": "code",
   "execution_count": 6,
   "metadata": {},
   "outputs": [
    {
     "name": "stdout",
     "output_type": "stream",
     "text": [
      "[[0, 2, 4, 6, 8, 10], [0, 2, 4, 6, 8, 10], [0, 2, 4, 6, 8, 10]]\n"
     ]
    }
   ],
   "source": [
    "row = int(3)\n",
    "col = int(3)\n",
    "\n",
    "matrix = list(range(row))\n",
    "line = list(range(col))\n",
    "\n",
    "for i in range(row):\n",
    "    #line = []\n",
    "    for j in range(col):\n",
    "        if j > col:\n",
    "            line = range()\n",
    "    matrix[i] = line\n",
    "    \n",
    "print(matrix)"
   ]
  }
 ],
 "metadata": {
  "file_extension": ".py",
  "interpreter": {
   "hash": "ac59ebe37160ed0dfa835113d9b8498d9f09ceb179beaac4002f036b9467c963"
  },
  "kernelspec": {
   "display_name": "Python 3 (ipykernel)",
   "language": "python",
   "name": "python3"
  },
  "language_info": {
   "codemirror_mode": {
    "name": "ipython",
    "version": 3
   },
   "file_extension": ".py",
   "mimetype": "text/x-python",
   "name": "python",
   "nbconvert_exporter": "python",
   "pygments_lexer": "ipython3",
   "version": "3.8.10"
  },
  "mimetype": "text/x-python",
  "name": "python",
  "npconvert_exporter": "python",
  "pygments_lexer": "ipython3",
  "version": 3
 },
 "nbformat": 4,
 "nbformat_minor": 2
}
